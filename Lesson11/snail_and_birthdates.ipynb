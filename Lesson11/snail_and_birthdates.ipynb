{
 "cells": [
  {
   "cell_type": "code",
   "execution_count": 48,
   "metadata": {},
   "outputs": [
    {
     "name": "stdout",
     "output_type": "stream",
     "text": [
      "Улитка никогда не заползет на столб\n",
      "None\n"
     ]
    }
   ],
   "source": [
    "def snail(height, speed_down=1,speed_up=2):\n",
    "    if speed_down==speed_up:\n",
    "        print('Улитка никогда не заползет на столб')\n",
    "        return None\n",
    "    first_height = height\n",
    "    day=0\n",
    "    while(True):\n",
    "        day+=1\n",
    "        height-=speed_up\n",
    "        if height<=0: return day\n",
    "        height+=speed_down   \n",
    "        if height>first_height:\n",
    "            print('Улитка никогда не заползет на столб')\n",
    "            return None\n",
    "\n",
    "print(snail(12,1,1))\n",
    "\n"
   ]
  },
  {
   "cell_type": "code",
   "execution_count": 95,
   "metadata": {},
   "outputs": [
    {
     "name": "stdout",
     "output_type": "stream",
     "text": [
      "2023-02-07 00:11:44.008923\n",
      "[(datetime.datetime(1981, 2, 8, 0, 0), 'Михалыч', 0, 41), (datetime.datetime(1992, 4, 1, 0, 0), 'Петя', 52, 30), (datetime.datetime(1992, 4, 5, 0, 0), 'Сергей', 56, 30), (datetime.datetime(1998, 7, 8, 0, 0), 'Виктор', 150, 24), (datetime.datetime(1980, 12, 1, 0, 0), 'Маша', 296, 42)]\n",
      "Михалыч исполняется 41 годик, СЕГОДНЯ!!!\n",
      "Петя исполняется 30 годик, через 52 день\n",
      "Сергей исполняется 30 годик, через 56 день\n",
      "Виктор исполняется 24 годик, через 150 день\n",
      "Маша исполняется 42 годик, через 296 день\n"
     ]
    }
   ],
   "source": [
    "from datetime import datetime\n",
    "\n",
    "birthdays = []\n",
    "\n",
    "todays = datetime.now()\n",
    "year = todays.year\n",
    "with open(\"date.txt\", \"r\", encoding=\"utf8\") as file:\n",
    "    for line in file:\n",
    "        days = line.strip(\"\\n\").split(\" \")\n",
    "        dd, mm, _ = days[0].split(\".\")\n",
    "        birthdays_str = \"{}.{}.{}\".format(dd, mm, year)\n",
    "        birthdays_data = datetime.strptime(birthdays_str, \"%d.%m.%Y\")\n",
    "        # print(birthdays)\n",
    "        name = days[1]\n",
    "        birthdays_real = datetime.strptime(days[0], \"%d.%m.%Y\")\n",
    "        # print(birthdays_real)\n",
    "        age = int((birthdays_data-birthdays_real).days/365.25)\n",
    "        birthdays.append((birthdays_real, name,(birthdays_data - todays).days,age))\n",
    "        \n",
    "       \n",
    "\n",
    "\n",
    "birthdays_sort = sorted(birthdays,key=lambda x: x[2])\n",
    "print(todays)\n",
    "print(birthdays_sort)\n",
    "for item in birthdays_sort:\n",
    "    if item[2]>0:\n",
    "        print('{} исполняется {} годик, через {} день'.format(item[1],item[3],item[2]))\n",
    "    elif item[2]==0:\n",
    "        print('{} исполняется {} годик, СЕГОДНЯ!!!'.format(item[1],item[3],item[2]))"
   ]
  }
 ],
 "metadata": {
  "kernelspec": {
   "display_name": "Python 3",
   "language": "python",
   "name": "python3"
  },
  "language_info": {
   "codemirror_mode": {
    "name": "ipython",
    "version": 3
   },
   "file_extension": ".py",
   "mimetype": "text/x-python",
   "name": "python",
   "nbconvert_exporter": "python",
   "pygments_lexer": "ipython3",
   "version": "3.11.0"
  },
  "orig_nbformat": 4,
  "vscode": {
   "interpreter": {
    "hash": "c261aea317cc0286b3b3261fbba9abdec21eaa57589985bb7a274bf54d6cc0a7"
   }
  }
 },
 "nbformat": 4,
 "nbformat_minor": 2
}
